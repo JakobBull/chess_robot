{
 "cells": [
  {
   "cell_type": "code",
   "execution_count": null,
   "metadata": {},
   "outputs": [],
   "source": []
  },
  {
   "cell_type": "markdown",
   "metadata": {},
   "source": []
  },
  {
   "cell_type": "code",
   "execution_count": 1,
   "metadata": {},
   "outputs": [],
   "source": [
    "import csv\n",
    "from settings import *\n",
    "from serial_interface import *\n",
    "import time"
   ]
  },
  {
   "cell_type": "markdown",
   "metadata": {},
   "source": []
  },
  {
   "cell_type": "code",
   "execution_count": 2,
   "metadata": {},
   "outputs": [
    {
     "name": "stdout",
     "output_type": "stream",
     "text": [
      "Sent command: #7 P1700\n"
     ]
    }
   ],
   "source": [
    "time.sleep(1)\n",
    "send_command(f\"#7 P1700\\r\")"
   ]
  },
  {
   "cell_type": "code",
   "execution_count": 3,
   "metadata": {},
   "outputs": [
    {
     "name": "stdout",
     "output_type": "stream",
     "text": [
      "Sent command: #0 P2430 #1 P620 #2 P1380 #3 P1420 T1000\n"
     ]
    }
   ],
   "source": [
    "send_command(f\"#0 P2430 #1 P620 #2 P1380 #3 P1420 T1000\\r\")\n"
   ]
  },
  {
   "cell_type": "code",
   "execution_count": 4,
   "metadata": {},
   "outputs": [
    {
     "name": "stdout",
     "output_type": "stream",
     "text": [
      "Sent command: #0 P1530 #1 P1520 #2 P1400 #3 P1373 T1000\n"
     ]
    }
   ],
   "source": [
    "send_command(f\"#0 P1530 #1 P1520 #2 P1400 #3 P1373 T1000\\r\")\n"
   ]
  },
  {
   "cell_type": "code",
   "execution_count": 21,
   "metadata": {},
   "outputs": [
    {
     "name": "stdout",
     "output_type": "stream",
     "text": [
      "Sent command: #0 P1780 #1 P1320 #2 P1524.995 #3 P1373.0 T500\n"
     ]
    },
    {
     "ename": "ValueError",
     "evalue": "not enough values to unpack (expected 3, got 0)",
     "output_type": "error",
     "traceback": [
      "\u001b[0;31m---------------------------------------------------------------------------\u001b[0m",
      "\u001b[0;31mValueError\u001b[0m                                Traceback (most recent call last)",
      "Cell \u001b[0;32mIn[21], line 22\u001b[0m\n\u001b[1;32m     20\u001b[0m \u001b[38;5;28;01mwhile\u001b[39;00m \u001b[38;5;28;01mTrue\u001b[39;00m:\n\u001b[1;32m     21\u001b[0m     user_input \u001b[38;5;241m=\u001b[39m \u001b[38;5;28minput\u001b[39m(\u001b[38;5;124m\"\u001b[39m\u001b[38;5;124mEnter theta_true_0, theta_true_1, theta_true_1 separated by spaces: \u001b[39m\u001b[38;5;124m\"\u001b[39m)\n\u001b[0;32m---> 22\u001b[0m     theta_true_0, theta_true_1, theta_true_2 \u001b[38;5;241m=\u001b[39m \u001b[38;5;28mmap\u001b[39m(\u001b[38;5;28mfloat\u001b[39m, user_input\u001b[38;5;241m.\u001b[39msplit())\n\u001b[1;32m     24\u001b[0m     \u001b[38;5;28;01mif\u001b[39;00m (theta1 \u001b[38;5;241m>\u001b[39m \u001b[38;5;241m0\u001b[39m \u001b[38;5;129;01mand\u001b[39;00m theta1 \u001b[38;5;241m<\u001b[39m \u001b[38;5;241m180\u001b[39m \u001b[38;5;129;01mand\u001b[39;00m theta2 \u001b[38;5;241m>\u001b[39m \u001b[38;5;241m-\u001b[39m\u001b[38;5;241m50\u001b[39m \u001b[38;5;129;01mand\u001b[39;00m theta2 \u001b[38;5;241m<\u001b[39m \u001b[38;5;241m50\u001b[39m \u001b[38;5;129;01mand\u001b[39;00m theta0 \u001b[38;5;241m>\u001b[39m \u001b[38;5;241m0\u001b[39m \u001b[38;5;129;01mand\u001b[39;00m theta0 \u001b[38;5;241m<\u001b[39m \u001b[38;5;241m180\u001b[39m):\n\u001b[1;32m     25\u001b[0m         \u001b[38;5;28;01mbreak\u001b[39;00m\n",
      "\u001b[0;31mValueError\u001b[0m: not enough values to unpack (expected 3, got 0)"
     ]
    }
   ],
   "source": [
    "\n",
    "\n",
    "servo_0_test_list = [65, 90, 115]\n",
    "servo_1_test_list = [70, 80, 90]\n",
    "servo_2_test_list = [-15, 0, 10]\n",
    "#servo_3_test_list = [-15, 0, 15]\n",
    "\n",
    "#send_command(f\"#0 P2430 #1 P620 #2 P1380 #3 P1420 T1000\\r\")\n",
    "#time.sleep(2)\n",
    "\n",
    "with open('callibration-old.csv', mode='w', newline='') as file:\n",
    "    writer = csv.writer(file)\n",
    "\n",
    "    # Write the header row\n",
    "    writer.writerow([\"pw_0\", \"pw_1\", \"pw_2\",\"theta_true_0\", \"theta_true_1\", \"theta_true_2\"])\n",
    "\n",
    "    for theta0 in servo_0_test_list:\n",
    "        for theta1 in servo_1_test_list:\n",
    "            for theta2 in servo_2_test_list:\n",
    "                move(theta0, theta1, theta2, 0, move_time=1000)\n",
    "                \n",
    "                while True:\n",
    "                    user_input = input(\"Enter theta_true_0, theta_true_1, theta_true_1 separated by spaces: \")\n",
    "                    theta_true_0, theta_true_1, theta_true_2 = map(float, user_input.split())\n",
    "\n",
    "                    if (theta1 > 0 and theta1 < 180 and theta2 > -50 and theta2 < 50 and theta0 > 0 and theta0 < 180):\n",
    "                        break\n",
    "                    else:\n",
    "                        print(\"The inputs are not correct.\")\n",
    "                \n",
    "                pw_0 = degrees_to_pw(theta0, servo_0_center, servo_0_direction)\n",
    "                pw_1 = degrees_to_pw(theta1, servo_1_center, servo_1_direction)\n",
    "                pw_2 = degrees_to_pw(theta2, servo_2_center, servo_2_direction)\n",
    "                writer.writerow([pw_0, pw_1, pw_2, theta_true_0, theta_true_1, theta_true_2])\n",
    "\n",
    "print(\"Done.\")\n",
    "\n",
    "\n"
   ]
  },
  {
   "cell_type": "code",
   "execution_count": 22,
   "metadata": {},
   "outputs": [],
   "source": [
    "import numpy as np\n",
    "servo_0_test_list = np.arange(0, 130, 5)\n",
    "servo_1_test_list = np.arange(0, 120, 5)\n",
    "servo_2_test_list = np.arange(-30, 30, 5)\n",
    "\n",
    "servo_0_rest_position = 0\n",
    "servo_1_rest_position = 0\n",
    "servo_2_rest_position = 0\n",
    "servo_3_rest_position = 0"
   ]
  },
  {
   "cell_type": "code",
   "execution_count": 8,
   "metadata": {},
   "outputs": [
    {
     "name": "stdout",
     "output_type": "stream",
     "text": [
      "Sent command: #0 P2430 #1 P620 #2 P1380 #3 P1420 S500\n",
      "Sent command: #0 P2380 #1 P620 #2 P1380 #3 P1420 S500\n",
      "Sent command: #0 P2330 #1 P620 #2 P1380 #3 P1420 S500\n",
      "Sent command: #0 P2280 #1 P620 #2 P1380 #3 P1420 S500\n",
      "Sent command: #0 P2230 #1 P620 #2 P1380 #3 P1420 S500\n",
      "Sent command: #0 P2180 #1 P620 #2 P1380 #3 P1420 S500\n",
      "Sent command: #0 P2130 #1 P620 #2 P1380 #3 P1420 S500\n",
      "Sent command: #0 P2080 #1 P620 #2 P1380 #3 P1420 S500\n",
      "Sent command: #0 P2030 #1 P620 #2 P1380 #3 P1420 S500\n",
      "Sent command: #0 P1980 #1 P620 #2 P1380 #3 P1420 S500\n",
      "Sent command: #0 P1930 #1 P620 #2 P1380 #3 P1420 S500\n",
      "Sent command: #0 P1880 #1 P620 #2 P1380 #3 P1420 S500\n",
      "Sent command: #0 P1830 #1 P620 #2 P1380 #3 P1420 S500\n",
      "Sent command: #0 P1780 #1 P620 #2 P1380 #3 P1420 S500\n",
      "Sent command: #0 P1730 #1 P620 #2 P1380 #3 P1420 S500\n",
      "Sent command: #0 P1680 #1 P620 #2 P1380 #3 P1420 S500\n",
      "Sent command: #0 P1630 #1 P620 #2 P1380 #3 P1420 S500\n",
      "Sent command: #0 P1580 #1 P620 #2 P1380 #3 P1420 S500\n",
      "Sent command: #0 P1530 #1 P620 #2 P1380 #3 P1420 S500\n",
      "Sent command: #0 P1480 #1 P620 #2 P1380 #3 P1420 S500\n",
      "Sent command: #0 P1430 #1 P620 #2 P1380 #3 P1420 S500\n",
      "Sent command: #0 P1380 #1 P620 #2 P1380 #3 P1420 S500\n",
      "Sent command: #0 P1330 #1 P620 #2 P1380 #3 P1420 S500\n",
      "Sent command: #0 P1280 #1 P620 #2 P1380 #3 P1420 S500\n",
      "Sent command: #0 P1230 #1 P620 #2 P1380 #3 P1420 S500\n",
      "Sent command: #0 P1180 #1 P620 #2 P1380 #3 P1420 S500\n"
     ]
    }
   ],
   "source": [
    "\n",
    "#servo_3_test_list = [-15, 0, 15]\n",
    "\n",
    "#send_command(f\"#0 P2430 #1 P620 #2 P1380 #3 P1420 T1000\\r\")\n",
    "#time.sleep(2)\n",
    "\n",
    "with open('callibration.csv', mode='a', newline='') as file:\n",
    "    writer = csv.writer(file)\n",
    "\n",
    "    for theta in servo_0_test_list:\n",
    "        move(theta, servo_1_rest_position, servo_2_rest_position, servo_3_rest_position, move_time=1000)\n",
    "        while True:\n",
    "            \n",
    "            user_input = input(\"Enter theta_true_0:\\n\")\n",
    "            theta_true_0 = float(user_input)\n",
    "\n",
    "            if (theta_true_0 >= -5 or theta_true_0 < 150):\n",
    "                pw_0 = degrees_to_pw(theta, servo_0_center, servo_0_direction)\n",
    "                writer.writerow([\"0\", pw_0, theta_true_0])\n",
    "                break\n",
    "            else:\n",
    "                print(\"The input is not correct.\")\n"
   ]
  },
  {
   "cell_type": "code",
   "execution_count": 15,
   "metadata": {},
   "outputs": [
    {
     "name": "stdout",
     "output_type": "stream",
     "text": [
      "Sent command: #0 P2430 #1 P1670 #2 P1380 #3 P1420 S500\n",
      "Sent command: #0 P2430 #1 P1720 #2 P1380 #3 P1420 S500\n",
      "Sent command: #0 P2430 #1 P1770 #2 P1380 #3 P1420 S500\n",
      "Sent command: #0 P2430 #1 P1820 #2 P1380 #3 P1420 S500\n",
      "Sent command: #0 P2430 #1 P1870 #2 P1380 #3 P1420 S500\n"
     ]
    }
   ],
   "source": [
    "with open('callibration.csv', mode='a', newline='') as file:\n",
    "    writer = csv.writer(file)\n",
    "\n",
    "    for theta in servo_1_test_list:\n",
    "        move(servo_0_rest_position, theta, servo_2_rest_position, servo_3_rest_position, move_time=1000)\n",
    "        while True:\n",
    "            user_input = input(\"Enter theta_true_1:\\n\")\n",
    "            theta_true_1 = float(user_input)\n",
    "\n",
    "            if (theta_true_1 >= -5 and theta_true_1 < 150):\n",
    "                pw_1 = degrees_to_pw(theta, servo_1_center, servo_1_direction)\n",
    "                writer.writerow([\"1\", pw_1, theta_true_1])\n",
    "                break\n",
    "            else:\n",
    "                print(\"The input is not correct.\")\n"
   ]
  },
  {
   "cell_type": "code",
   "execution_count": 23,
   "metadata": {},
   "outputs": [
    {
     "name": "stdout",
     "output_type": "stream",
     "text": [
      "Sent command: #0 P2430 #1 P620 #2 P1680 #3 P1420 S500\n",
      "Sent command: #0 P2430 #1 P620 #2 P1630 #3 P1420 S500\n",
      "Sent command: #0 P2430 #1 P620 #2 P1580 #3 P1420 S500\n",
      "Sent command: #0 P2430 #1 P620 #2 P1530 #3 P1420 S500\n",
      "Sent command: #0 P2430 #1 P620 #2 P1480 #3 P1420 S500\n",
      "Sent command: #0 P2430 #1 P620 #2 P1430 #3 P1420 S500\n",
      "Sent command: #0 P2430 #1 P620 #2 P1380 #3 P1420 S500\n",
      "Sent command: #0 P2430 #1 P620 #2 P1330 #3 P1420 S500\n",
      "Sent command: #0 P2430 #1 P620 #2 P1280 #3 P1420 S500\n",
      "Sent command: #0 P2430 #1 P620 #2 P1230 #3 P1420 S500\n",
      "Sent command: #0 P2430 #1 P620 #2 P1180 #3 P1420 S500\n",
      "Sent command: #0 P2430 #1 P620 #2 P1130 #3 P1420 S500\n"
     ]
    }
   ],
   "source": [
    "with open('callibration.csv', mode='a', newline='') as file:\n",
    "    writer = csv.writer(file)\n",
    "\n",
    "    for theta in servo_2_test_list:\n",
    "        move(servo_0_rest_position, servo_1_rest_position, theta, servo_3_rest_position, move_time=1000)\n",
    "        while True:\n",
    "            user_input = input(\"Enter theta_true_2:\\n\")\n",
    "            theta_true_2 = float(user_input)\n",
    "\n",
    "            if (theta_true_2 >= -50 and theta_true_2 < 50):\n",
    "                pw_2 = degrees_to_pw(theta, servo_2_center, servo_2_direction)\n",
    "                writer.writerow([\"2\", pw_2, theta_true_2])\n",
    "                break\n",
    "            else:\n",
    "                print(\"The input is not correct.\")"
   ]
  },
  {
   "cell_type": "code",
   "execution_count": 7,
   "metadata": {},
   "outputs": [
    {
     "name": "stdout",
     "output_type": "stream",
     "text": [
      "Sent command: #0 P1730 #1 P1970 #2 P1629.99 #3 P1020 T2000\n",
      "Sent command: #0 P1730 #1 P1970 #2 P1629.99 #3 P1070 T2000\n",
      "Sent command: #0 P1730 #1 P1970 #2 P1629.99 #3 P1120 T2000\n",
      "Sent command: #0 P1730 #1 P1970 #2 P1629.99 #3 P1170 T2000\n",
      "Sent command: #0 P1730 #1 P1970 #2 P1629.99 #3 P1220 T2000\n",
      "Sent command: #0 P1730 #1 P1970 #2 P1629.99 #3 P1270 T2000\n",
      "Sent command: #0 P1730 #1 P1970 #2 P1629.99 #3 P1320 T2000\n",
      "Sent command: #0 P1730 #1 P1970 #2 P1629.99 #3 P1370 T2000\n",
      "Sent command: #0 P1730 #1 P1970 #2 P1629.99 #3 P1420 T2000\n"
     ]
    },
    {
     "ename": "ValueError",
     "evalue": "could not convert string to float: ''",
     "output_type": "error",
     "traceback": [
      "\u001b[0;31m---------------------------------------------------------------------------\u001b[0m",
      "\u001b[0;31mValueError\u001b[0m                                Traceback (most recent call last)",
      "Cell \u001b[0;32mIn[7], line 14\u001b[0m\n\u001b[1;32m     12\u001b[0m \u001b[38;5;28;01mwhile\u001b[39;00m \u001b[38;5;28;01mTrue\u001b[39;00m:\n\u001b[1;32m     13\u001b[0m     user_input \u001b[38;5;241m=\u001b[39m \u001b[38;5;28minput\u001b[39m(\u001b[38;5;124m\"\u001b[39m\u001b[38;5;124mEnter theta_true_2:\u001b[39m\u001b[38;5;130;01m\\n\u001b[39;00m\u001b[38;5;124m\"\u001b[39m)\n\u001b[0;32m---> 14\u001b[0m     theta_true_2 \u001b[38;5;241m=\u001b[39m \u001b[38;5;28;43mfloat\u001b[39;49m\u001b[43m(\u001b[49m\u001b[43muser_input\u001b[49m\u001b[43m)\u001b[49m\n\u001b[1;32m     16\u001b[0m     \u001b[38;5;28;01mif\u001b[39;00m (theta_true_2 \u001b[38;5;241m>\u001b[39m\u001b[38;5;241m=\u001b[39m \u001b[38;5;241m-\u001b[39m\u001b[38;5;241m50\u001b[39m \u001b[38;5;129;01mand\u001b[39;00m theta_true_2 \u001b[38;5;241m<\u001b[39m \u001b[38;5;241m50\u001b[39m):\n\u001b[1;32m     17\u001b[0m         pw_2 \u001b[38;5;241m=\u001b[39m degrees_to_pw(theta, servo_2_center, servo_2_direction)\n",
      "\u001b[0;31mValueError\u001b[0m: could not convert string to float: ''"
     ]
    }
   ],
   "source": [
    "import numpy as np\n",
    "servo_3_test_list = np.arange(-40, 40, 5)\n",
    "servo_0_rest_position = 70\n",
    "servo_1_rest_position = 135\n",
    "servo_2_rest_position = -30\n",
    "\n",
    "with open('callibration.csv', mode='a', newline='') as file:\n",
    "    writer = csv.writer(file)\n",
    "\n",
    "    for theta in servo_3_test_list:\n",
    "        move(servo_0_rest_position, servo_1_rest_position, servo_2_rest_position, theta, move_time=1000)\n",
    "        while True:\n",
    "            user_input = input(\"Enter theta_true_2:\\n\")\n",
    "            theta_true_2 = float(user_input)\n",
    "\n",
    "            if (theta_true_2 >= -50 and theta_true_2 < 50):\n",
    "                pw_2 = degrees_to_pw(theta, servo_2_center, servo_2_direction)\n",
    "                writer.writerow([\"2\", pw_2, theta_true_2])\n",
    "                break\n",
    "            else:\n",
    "                print(\"The input is not correct.\")"
   ]
  },
  {
   "cell_type": "code",
   "execution_count": null,
   "metadata": {},
   "outputs": [],
   "source": []
  }
 ],
 "metadata": {
  "kernelspec": {
   "display_name": "ep2",
   "language": "python",
   "name": "python3"
  },
  "language_info": {
   "codemirror_mode": {
    "name": "ipython",
    "version": 3
   },
   "file_extension": ".py",
   "mimetype": "text/x-python",
   "name": "python",
   "nbconvert_exporter": "python",
   "pygments_lexer": "ipython3",
   "version": "3.12.4"
  }
 },
 "nbformat": 4,
 "nbformat_minor": 2
}
